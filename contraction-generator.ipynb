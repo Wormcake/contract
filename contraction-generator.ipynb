{
 "cells": [
  {
   "cell_type": "code",
   "execution_count": 204,
   "id": "f5ac84da",
   "metadata": {},
   "outputs": [
    {
     "name": "stdout",
     "output_type": "stream",
     "text": [
      " 156 / 190\n",
      "which’ll\n",
      "which shall / which will\n",
      "\n",
      "Source:\thttps://en.wikipedia.org/wiki/Wikipedia:List_of_English_contractions\n"
     ]
    }
   ],
   "source": [
    "import requests as rq\n",
    "from bs4 import BeautifulSoup as biso\n",
    "import random\n",
    "\n",
    "url = \"https://en.wikipedia.org/wiki/Wikipedia:List_of_English_contractions\"\n",
    "\n",
    "page = rq.get(url)\n",
    "soup = biso(page.content,'html.parser')\n",
    "\n",
    "reviews = soup.find_all('td')\n",
    "funn = soup.find_all('tr')\n",
    "\n",
    "chug = random.randint(1, 190)\n",
    "chud = chug*2\n",
    "chup = chug+1\n",
    "print(\" \" + str(chug) + \" / 190\")\n",
    "\n",
    "for review in reviews[chud]:\n",
    "    text = review.get_text().strip()\n",
    "print(text)\n",
    "\n",
    "for review in funn[chup]:\n",
    "    text = review.get_text().strip()\n",
    "print(text)\n",
    "\n",
    "print(\"\\nSource:\\thttps://en.wikipedia.org/wiki/Wikipedia:List_of_English_contractions\")"
   ]
  }
 ],
 "metadata": {
  "kernelspec": {
   "display_name": "Python 3 (ipykernel)",
   "language": "python",
   "name": "python3"
  },
  "language_info": {
   "codemirror_mode": {
    "name": "ipython",
    "version": 3
   },
   "file_extension": ".py",
   "mimetype": "text/x-python",
   "name": "python",
   "nbconvert_exporter": "python",
   "pygments_lexer": "ipython3",
   "version": "3.10.5"
  }
 },
 "nbformat": 4,
 "nbformat_minor": 5
}
